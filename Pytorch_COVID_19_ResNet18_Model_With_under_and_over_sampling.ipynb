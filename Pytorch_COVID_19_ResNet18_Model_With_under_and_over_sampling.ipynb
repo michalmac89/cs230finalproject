{
  "nbformat": 4,
  "nbformat_minor": 0,
  "metadata": {
    "colab": {
      "name": "Pytorch COVID-19 ResNet18 Model With under and over sampling.ipynb",
      "provenance": [],
      "collapsed_sections": [],
      "machine_shape": "hm",
      "include_colab_link": true
    },
    "kernelspec": {
      "name": "python3",
      "display_name": "Python 3"
    },
    "accelerator": "GPU"
  },
  "cells": [
    {
      "cell_type": "markdown",
      "metadata": {
        "id": "view-in-github",
        "colab_type": "text"
      },
      "source": [
        "<a href=\"https://colab.research.google.com/github/michalmac89/cs230finalproject/blob/main/Pytorch_COVID_19_ResNet18_Model_With_under_and_over_sampling.ipynb\" target=\"_parent\"><img src=\"https://colab.research.google.com/assets/colab-badge.svg\" alt=\"Open In Colab\"/></a>"
      ]
    },
    {
      "cell_type": "code",
      "metadata": {
        "id": "rvvZPvi-sqUn",
        "outputId": "00dbfaa1-bf1e-4888-d2d5-56439954ea4e",
        "colab": {
          "base_uri": "https://localhost:8080/",
          "height": 34
        }
      },
      "source": [
        "%matplotlib inline\n",
        "\n",
        "import os\n",
        "import torch\n",
        "import random\n",
        "import torchvision\n",
        "import numpy as np\n",
        "import pandas as pd\n",
        "\n",
        "from PIL import Image\n",
        "from matplotlib import pyplot as plt\n",
        "\n",
        "torch.manual_seed(0)\n",
        "\n",
        "print('Using PyTorch version', torch.__version__)"
      ],
      "execution_count": null,
      "outputs": [
        {
          "output_type": "stream",
          "text": [
            "Using PyTorch version 1.7.0+cu101\n"
          ],
          "name": "stdout"
        }
      ]
    },
    {
      "cell_type": "code",
      "metadata": {
        "id": "MCn74-pys4Ls",
        "outputId": "a007b040-2425-421e-8686-9580357b4be2",
        "colab": {
          "base_uri": "https://localhost:8080/",
          "height": 34
        }
      },
      "source": [
        "from google.colab import drive\n",
        "drive.mount('/content/drive',force_remount=True)"
      ],
      "execution_count": null,
      "outputs": [
        {
          "output_type": "stream",
          "text": [
            "Mounted at /content/drive\n"
          ],
          "name": "stdout"
        }
      ]
    },
    {
      "cell_type": "code",
      "metadata": {
        "id": "EwBbu3gatIur"
      },
      "source": [
        "class ChestXRayDataset(torch.utils.data.Dataset):\n",
        "    def __init__(self, image_dirs, transform):\n",
        "        def get_images(class_name):\n",
        "            images = [x for x in os.listdir(image_dirs[class_name]) if x[-3:].lower().endswith('png')]\n",
        "            print(f'Found {len(images)} {class_name} examples')\n",
        "            return images\n",
        "        \n",
        "        self.images = {}\n",
        "        self.class_names = ['normal', 'viral', 'covid']\n",
        "        \n",
        "        for class_name in self.class_names:\n",
        "            self.images[class_name] = get_images(class_name)\n",
        "            \n",
        "        self.image_dirs = image_dirs\n",
        "        self.transform = transform\n",
        "        \n",
        "    \n",
        "    def __len__(self):\n",
        "        return sum([len(self.images[class_name]) for class_name in self.class_names])\n",
        "    \n",
        "    \n",
        "    def __getitem__(self, index):\n",
        "        all_images = self.images[self.class_names[0]] \\\n",
        "          + self.images[self.class_names[1]] \\\n",
        "          + self.images[self.class_names[2]]\n",
        "        all_class_names = [self.class_names[0]]*len(self.images[self.class_names[0]]) \\\n",
        "          + [self.class_names[1]]*len(self.images[self.class_names[1]]) \\\n",
        "          + [self.class_names[2]]*len(self.images[self.class_names[2]])\n",
        "        image_name = all_images[index]\n",
        "        class_name = all_class_names[index]\n",
        "        image_path = os.path.join(self.image_dirs[class_name], image_name)\n",
        "        image = Image.open(image_path).convert('RGB')\n",
        "        return self.transform(image), self.class_names.index(class_name)"
      ],
      "execution_count": null,
      "outputs": []
    },
    {
      "cell_type": "code",
      "metadata": {
        "id": "DDygaS-NtNDu"
      },
      "source": [
        "transform = torchvision.transforms.Compose([\n",
        "    torchvision.transforms.Resize(size=(224, 224)),\n",
        "    torchvision.transforms.ToTensor(),\n",
        "    torchvision.transforms.Normalize(mean=[0.485, 0.456, 0.406], std=[0.229, 0.224, 0.225])\n",
        "])"
      ],
      "execution_count": null,
      "outputs": []
    },
    {
      "cell_type": "code",
      "metadata": {
        "id": "N-KvzRSdtQhy",
        "outputId": "536cb3aa-225b-42d4-e27b-9dd2cd037055",
        "colab": {
          "base_uri": "https://localhost:8080/",
          "height": 68
        }
      },
      "source": [
        "train_dirs = { \n",
        "    'normal': 'drive/My Drive/dataset/COVID-19 Radiography Database/normal',\n",
        "    'viral': 'drive/My Drive/dataset/COVID-19 Radiography Database/viral',\n",
        "    'covid': 'drive/My Drive/dataset/COVID-19 Radiography Database/covid'\n",
        "}\n",
        "\n",
        "train_dataset = ChestXRayDataset(train_dirs, transform)"
      ],
      "execution_count": null,
      "outputs": [
        {
          "output_type": "stream",
          "text": [
            "Found 1221 normal examples\n",
            "Found 1225 viral examples\n",
            "Found 99 covid examples\n"
          ],
          "name": "stdout"
        }
      ]
    },
    {
      "cell_type": "code",
      "metadata": {
        "id": "KHrOiCEktUvn",
        "outputId": "4db942cc-19ba-45d9-c0df-3c409b1b83e0",
        "colab": {
          "base_uri": "https://localhost:8080/",
          "height": 68
        }
      },
      "source": [
        "dev_dirs = {\n",
        "    'normal': 'drive/My Drive/dataset/COVID-19 Radiography Database/dev/normal',\n",
        "    'viral': 'drive/My Drive/dataset/COVID-19 Radiography Database/dev/viral',\n",
        "    'covid': 'drive/My Drive/dataset/COVID-19 Radiography Database/dev/covid'\n",
        "}\n",
        "dev_dataset = ChestXRayDataset(dev_dirs, transform)"
      ],
      "execution_count": null,
      "outputs": [
        {
          "output_type": "stream",
          "text": [
            "Found 30 normal examples\n",
            "Found 30 viral examples\n",
            "Found 30 covid examples\n"
          ],
          "name": "stdout"
        }
      ]
    },
    {
      "cell_type": "code",
      "metadata": {
        "id": "TzA4ktNIvN_m",
        "outputId": "81754308-3ac6-4fdc-b9cc-ee3dbb1e35a8",
        "colab": {
          "base_uri": "https://localhost:8080/",
          "height": 68
        }
      },
      "source": [
        "test_dirs = {\n",
        "    'normal': 'drive/My Drive/dataset/COVID-19 Radiography Database/test/normal',\n",
        "    'viral': 'drive/My Drive/dataset/COVID-19 Radiography Database/test/viral',\n",
        "    'covid': 'drive/My Drive/dataset/COVID-19 Radiography Database/test/covid'\n",
        "}\n",
        "\n",
        "test_dataset = ChestXRayDataset(test_dirs, transform)"
      ],
      "execution_count": null,
      "outputs": [
        {
          "output_type": "stream",
          "text": [
            "Found 30 normal examples\n",
            "Found 30 viral examples\n",
            "Found 30 covid examples\n"
          ],
          "name": "stdout"
        }
      ]
    },
    {
      "cell_type": "code",
      "metadata": {
        "id": "Vjmh0F0kvSpP",
        "outputId": "7c4d8675-365f-4798-d87e-1e3700e04dfb",
        "colab": {
          "base_uri": "https://localhost:8080/",
          "height": 68
        }
      },
      "source": [
        "batch_size = 6\n",
        "\n",
        "dl_train = torch.utils.data.DataLoader(train_dataset, batch_size=batch_size, shuffle=True)\n",
        "dl_dev = torch.utils.data.DataLoader(dev_dataset, batch_size=batch_size, shuffle=True)\n",
        "dl_test = torch.utils.data.DataLoader(test_dataset, batch_size=batch_size, shuffle=True)\n",
        "\n",
        "print('Number of training batches', len(dl_train))\n",
        "print('Number of dev batches', len(dl_dev))\n",
        "print('Number of test batches', len(dl_test))"
      ],
      "execution_count": null,
      "outputs": [
        {
          "output_type": "stream",
          "text": [
            "Number of training batches 425\n",
            "Number of dev batches 15\n",
            "Number of test batches 15\n"
          ],
          "name": "stdout"
        }
      ]
    },
    {
      "cell_type": "code",
      "metadata": {
        "id": "zcVsLCICwMwg"
      },
      "source": [
        "class_names = train_dataset.class_names\n",
        "\n",
        "def show_images(images, labels, preds):\n",
        "    plt.figure(figsize=(8, 4))\n",
        "    for i, image in enumerate(images):\n",
        "        plt.subplot(1, 6, i + 1, xticks=[], yticks=[])\n",
        "        image = image.numpy().transpose((1, 2, 0))\n",
        "        mean = np.array([0.485, 0.456, 0.406])\n",
        "        std = np.array([0.229, 0.224, 0.225])\n",
        "        image = image * std + mean\n",
        "        image = np.clip(image, 0., 1.)\n",
        "        plt.imshow(image)\n",
        "        col = 'green'\n",
        "        if preds[i] != labels[i]:\n",
        "            col = 'red'\n",
        "            \n",
        "        plt.xlabel(f'{class_names[int(labels[i].numpy())]}')\n",
        "        plt.ylabel(f'{class_names[int(preds[i].numpy())]}', color=col)\n",
        "    plt.tight_layout()\n",
        "    plt.show()"
      ],
      "execution_count": null,
      "outputs": []
    },
    {
      "cell_type": "code",
      "metadata": {
        "id": "QoRLXrsKwQOx",
        "outputId": "7a70cba8-1af9-4e3e-e18a-21b9ae2fd802",
        "colab": {
          "base_uri": "https://localhost:8080/",
          "height": 114
        }
      },
      "source": [
        "images, labels = next(iter(dl_train))\n",
        "show_images(images, labels, labels)"
      ],
      "execution_count": null,
      "outputs": [
        {
          "output_type": "display_data",
          "data": {
            "image/png": "[encoded data removed]",
            "text/plain": [
              "<Figure size 576x288 with 6 Axes>"
            ]
          },
          "metadata": {
            "tags": []
          }
        }
      ]
    },
    {
      "cell_type": "code",
      "metadata": {
        "id": "47P32boGwSd4",
        "outputId": "4414badf-ac58-4196-e5d1-01e54f053766",
        "colab": {
          "base_uri": "https://localhost:8080/",
          "height": 114
        }
      },
      "source": [
        "images, labels = next(iter(dl_test))\n",
        "show_images(images, labels, labels)"
      ],
      "execution_count": null,
      "outputs": [
        {
          "output_type": "display_data",
          "data": {
            "image/png": "[encoded data removed]",
            "text/plain": [
              "<Figure size 576x288 with 6 Axes>"
            ]
          },
          "metadata": {
            "tags": []
          }
        }
      ]
    },
    {
      "cell_type": "code",
      "metadata": {
        "id": "MAN6pBL_wZfh"
      },
      "source": [
        "resnet18 = torchvision.models.resnet18(pretrained=True)\n",
        "\n",
        "print(resnet18)"
      ],
      "execution_count": null,
      "outputs": []
    },
    {
      "cell_type": "code",
      "metadata": {
        "id": "pPTEZwWpwepn"
      },
      "source": [
        "resnet18.fc = torch.nn.Linear(in_features=512, out_features=3)\n",
        "loss_fn = torch.nn.CrossEntropyLoss()\n",
        "optimizer = torch.optim.Adam(resnet18.parameters(), lr=3e-5)"
      ],
      "execution_count": null,
      "outputs": []
    },
    {
      "cell_type": "code",
      "metadata": {
        "id": "ft1W6CxIwiJv"
      },
      "source": [
        "def show_preds():\n",
        "    resnet18.eval()\n",
        "    images, labels = next(iter(dl_dev))\n",
        "    outputs = resnet18(images)\n",
        "    _, preds = torch.max(outputs, 1)\n",
        "    show_images(images, labels, preds)"
      ],
      "execution_count": null,
      "outputs": []
    },
    {
      "cell_type": "code",
      "metadata": {
        "id": "vlrGN8bFwkDT"
      },
      "source": [
        "show_preds()"
      ],
      "execution_count": null,
      "outputs": []
    },
    {
      "cell_type": "code",
      "metadata": {
        "id": "YlG-W2yRwoth"
      },
      "source": [
        "def train(epochs):\n",
        "    print('Starting training..')\n",
        "    for e in range(0, epochs):\n",
        "        print('='*20)\n",
        "        print(f'Starting epoch {e + 1}/{epochs}')\n",
        "        print('='*20)\n",
        "\n",
        "        train_loss = 0.\n",
        "        val_loss = 0.\n",
        "\n",
        "        resnet18.train() # set model to training phase\n",
        "\n",
        "        for train_step, (images, labels) in enumerate(dl_train):\n",
        "            optimizer.zero_grad()\n",
        "            outputs = resnet18(images)\n",
        "            loss = loss_fn(outputs, labels)\n",
        "            loss.backward()\n",
        "            optimizer.step()\n",
        "            train_loss += loss.item()\n",
        "            print(f'Train Loss: {train_loss:.4f}')\n",
        "            if train_step % 20 == 0:\n",
        "                print('Evaluating at step', train_step)\n",
        "\n",
        "                accuracy = 0\n",
        "\n",
        "                resnet18.eval() # set model to eval phase\n",
        "\n",
        "                for val_step, (images, labels) in enumerate(dl_dev):\n",
        "                    outputs = resnet18(images)\n",
        "                    loss = loss_fn(outputs, labels)\n",
        "                    val_loss += loss.item()\n",
        "\n",
        "                    _, preds = torch.max(outputs, 1)\n",
        "                    accuracy += sum((preds == labels).numpy())\n",
        "\n",
        "                val_loss /= (val_step + 1)\n",
        "                accuracy = accuracy/len(test_dataset)\n",
        "                print(f'Dev Loss: {val_loss:.4f}, Accuracy: {accuracy:.4f}')\n",
        "\n",
        "                show_preds()\n",
        "\n",
        "                resnet18.train() # set model to training phase\n",
        "\n",
        "                if accuracy >= 0.95:\n",
        "                    print('Performance condition satisfied, stopping..')\n",
        "                    return\n",
        "\n",
        "        train_loss /= (train_step + 1)\n",
        "\n",
        "        print(f'Training Loss: {train_loss:.4f}')\n",
        "    print('Training complete..')"
      ],
      "execution_count": null,
      "outputs": []
    },
    {
      "cell_type": "code",
      "metadata": {
        "id": "XwST4LQcxTWV"
      },
      "source": [
        "%%time\n",
        "\n",
        "train(epochs=1)"
      ],
      "execution_count": null,
      "outputs": []
    },
    {
      "cell_type": "code",
      "metadata": {
        "id": "l3qc5P5OxdSR"
      },
      "source": [
        "resnet18.eval()\n",
        "labels_all = []\n",
        "preds_all = []\n",
        "for i, (images, labels) in enumerate(dl_test):\n",
        "    output = resnet18(images)\n",
        "    _, preds = torch.max(output, 1)\n",
        "    labels_all += labels\n",
        "    preds_all += preds"
      ],
      "execution_count": null,
      "outputs": []
    },
    {
      "cell_type": "code",
      "metadata": {
        "id": "pQ-tZSYpyzRs"
      },
      "source": [
        "comparison_df = pd.DataFrame(labels_all).rename(columns={0: 'labels'})\n",
        "comparison_df['preds'] = [int(preds_all_el) for preds_all_el in preds_all]\n",
        "comparison_df['misclassified'] = comparison_df.apply(lambda col: col['labels'] != col['preds'], axis=1)\n",
        "comparison_df.head()"
      ],
      "execution_count": null,
      "outputs": []
    },
    {
      "cell_type": "code",
      "metadata": {
        "id": "7BHinhMky5Yj"
      },
      "source": [
        "comparison_df[comparison_df['misclassified'] == True]"
      ],
      "execution_count": null,
      "outputs": []
    },
    {
      "cell_type": "code",
      "metadata": {
        "id": "ngcGaxVMy8X7"
      },
      "source": [
        "resnet18.eval() # set model to eval phase\n",
        "\n",
        "nb_classes = 3\n",
        "\n",
        "with torch.no_grad():\n",
        "    confusion_matrix = torch.zeros(nb_classes, nb_classes)\n",
        "    for i, (images, labels) in enumerate(dl_test):\n",
        "        outputs = resnet18(images)\n",
        "        _, preds = torch.max(outputs, 1)\n",
        "        for t, p in zip(labels.view(-1), preds.view(-1)):\n",
        "          confusion_matrix[t.long(), p.long()] += 1\n",
        "\n",
        "    print(class_names)\n",
        "    print(confusion_matrix)"
      ],
      "execution_count": null,
      "outputs": []
    },
    {
      "cell_type": "code",
      "metadata": {
        "id": "NQ5At_4RCNHU"
      },
      "source": [
        "import numpy as np\n",
        "import pandas as pd\n",
        "import seaborn as sns\n",
        "import matplotlib.pyplot as plt\n",
        "\n",
        "from keras.preprocessing.image import ImageDataGenerator\n",
        "from keras.applications.densenet import DenseNet121\n",
        "from keras.layers import Dense, GlobalAveragePooling2D\n",
        "from keras.models import Model\n",
        "from keras import backend as K\n",
        "\n",
        "from keras.models import load_model\n",
        "import sys\n",
        "#sys.path.append('drive/My Drive/Colab Notebooks/')\n",
        "#import util"
      ],
      "execution_count": null,
      "outputs": []
    },
    {
      "cell_type": "code",
      "metadata": {
        "id": "vSNgX8DiCYGS",
        "outputId": "50faf30b-1d04-4d82-dd02-1c3c4ba41eb9",
        "colab": {
          "base_uri": "https://localhost:8080/",
          "height": 34
        }
      },
      "source": [
        "print(len(dl_train))"
      ],
      "execution_count": null,
      "outputs": [
        {
          "output_type": "stream",
          "text": [
            "425\n"
          ],
          "name": "stdout"
        }
      ]
    },
    {
      "cell_type": "code",
      "metadata": {
        "id": "gf_NUy5JCZaf",
        "outputId": "cccf2986-d1bd-4caa-8304-9dad9b763b51",
        "colab": {
          "base_uri": "https://localhost:8080/",
          "height": 51
        }
      },
      "source": [
        "images, labels = next(iter(dl_train))\n",
        "print('images shape on batch size  = {}'.format(images.size()))\n",
        "print('labels shape on batch size = {}'.format(labels.size()))"
      ],
      "execution_count": null,
      "outputs": [
        {
          "output_type": "stream",
          "text": [
            "images shape on batch size  = torch.Size([6, 3, 224, 224])\n",
            "labels shape on batch size = torch.Size([6])\n"
          ],
          "name": "stdout"
        }
      ]
    },
    {
      "cell_type": "code",
      "metadata": {
        "id": "ynpfasd3FqHr",
        "outputId": "d3ca8a58-c9ed-482f-b6ff-82c0e7afaf91",
        "colab": {
          "base_uri": "https://localhost:8080/",
          "height": 34
        }
      },
      "source": [
        "print(labels)"
      ],
      "execution_count": null,
      "outputs": [
        {
          "output_type": "stream",
          "text": [
            "tensor([0, 1, 1, 0, 0, 1])\n"
          ],
          "name": "stdout"
        }
      ]
    },
    {
      "cell_type": "code",
      "metadata": {
        "id": "97VeuA_6GauL",
        "outputId": "5822defe-d790-4cf8-d9ce-fe30b20b70fb",
        "colab": {
          "base_uri": "https://localhost:8080/",
          "height": 303
        }
      },
      "source": [
        "index=1\n",
        "image = images[index]\n",
        "image = image.numpy().transpose((1, 2, 0))\n",
        "mean = np.array([0.485, 0.456, 0.406])\n",
        "std = np.array([0.229, 0.224, 0.225])\n",
        "image = image * std + mean\n",
        "plt.imshow(image)\n",
        "print(class_names[int(labels[index].numpy())])"
      ],
      "execution_count": null,
      "outputs": [
        {
          "output_type": "stream",
          "text": [
            "Clipping input data to the valid range for imshow with RGB data ([0..1] for floats or [0..255] for integers).\n"
          ],
          "name": "stderr"
        },
        {
          "output_type": "stream",
          "text": [
            "viral\n"
          ],
          "name": "stdout"
        },
        {
          "output_type": "display_data",
          "data": {
            "image/png": "[encoded data removed]",
            "text/plain": [
              "<Figure size 432x288 with 1 Axes>"
            ]
          },
          "metadata": {
            "tags": [],
            "needs_background": "light"
          }
        }
      ]
    },
    {
      "cell_type": "code",
      "metadata": {
        "id": "9MaOyZbcH7Is",
        "outputId": "6346ea80-265f-4c1e-df9a-4da450aa15d6",
        "colab": {
          "base_uri": "https://localhost:8080/",
          "height": 34
        }
      },
      "source": [
        "print(train_dataset.class_names)"
      ],
      "execution_count": null,
      "outputs": [
        {
          "output_type": "stream",
          "text": [
            "['normal', 'viral', 'covid']\n"
          ],
          "name": "stdout"
        }
      ]
    },
    {
      "cell_type": "code",
      "metadata": {
        "id": "38TB8Ss_JG20"
      },
      "source": [
        "count = {}\n",
        "for key, values in train_dataset.images.items():\n",
        "  count[key] = len(values)"
      ],
      "execution_count": null,
      "outputs": []
    },
    {
      "cell_type": "code",
      "metadata": {
        "id": "c5JGFUL8MTX7",
        "outputId": "98e65259-66ff-4d5a-d70d-af0876885b01",
        "colab": {
          "base_uri": "https://localhost:8080/",
          "height": 34
        }
      },
      "source": [
        "print(count)"
      ],
      "execution_count": null,
      "outputs": [
        {
          "output_type": "stream",
          "text": [
            "{'normal': 1221, 'viral': 1225, 'covid': 99}\n"
          ],
          "name": "stdout"
        }
      ]
    },
    {
      "cell_type": "code",
      "metadata": {
        "id": "SZ3DDxYGTbWV"
      },
      "source": [
        "\n",
        "from IPython import display\n",
        "\n",
        "# kill error when executing argparse in IPython console\n",
        "import sys; sys.argv=['']; del sys\n",
        "\n",
        "import os\n",
        "os.environ[\"CUDA_DEVICE_ORDER\"]=\"PCI_BUS_ID\"   \n",
        "os.environ[\"CUDA_VISIBLE_DEVICES\"]=\"1\""
      ],
      "execution_count": null,
      "outputs": []
    },
    {
      "cell_type": "code",
      "metadata": {
        "id": "aFt44-IsOAwh"
      },
      "source": [
        "import argparse\n",
        "import os\n",
        "import torch\n",
        "import torchvision\n",
        "import numpy as np\n",
        "import pandas as pd\n",
        "import sklearn.metrics as sm\n",
        "\n",
        "# parse arguments\n",
        "parser = argparse.ArgumentParser(description='Imbalanced Dataset Example')\n",
        "parser.add_argument('--data', metavar='DIR', default='./data/oven', help='path to dataset')\n",
        "parser.add_argument('--arch', '-a', metavar='ARCH', default='resnet18')\n",
        "parser.add_argument('--epochs', default=90, type=int, metavar='N',\n",
        "                    help='number of total epochs to run')\n",
        "parser.add_argument('-b', '--batch-size', default=6, type=int,\n",
        "                    metavar='N', help='mini-batch size (default: 6)')\n",
        "parser.add_argument('--lr', '--learning-rate', default=0.1, type=float,\n",
        "                    metavar='LR', help='initial learning rate')\n",
        "parser.add_argument('--momentum', default=0.9, type=float, metavar='M',\n",
        "                    help='momentum')\n",
        "parser.add_argument('--weight-decay', '--wd', default=1e-4, type=float,\n",
        "                    metavar='W', help='weight decay (default: 1e-4)')\n",
        "parser.add_argument('--no-cuda', action='store_true', default=True,\n",
        "                    help='disables CUDA training')\n",
        "parser.add_argument('--seed', type=int, default=42, metavar='S',\n",
        "                    help='random seed (default: 42)')\n",
        "args = parser.parse_args()\n",
        "use_cuda = not args.no_cuda ##and torch.cuda.is_available()\n",
        "\n",
        "torch.manual_seed(args.seed)\n",
        "device = torch.device(\"cuda\" if use_cuda else \"cpu\")\n",
        "kwargs = {'num_workers': 1, 'pin_memory': True} if use_cuda else {}\n",
        "\n",
        "# Data loading code\n",
        "traindir = os.path.join(args.data, 'train')\n",
        "valdir = os.path.join(args.data, 'val')\n",
        "normalize = torchvision.transforms.Normalize(\n",
        "    mean=[0.485, 0.456, 0.406], std=[0.229, 0.224, 0.225])\n",
        "\n",
        "train_loader = torch.utils.data.DataLoader(\n",
        "    train_dataset, batch_size=args.batch_size, \n",
        "    shuffle=True, sampler=None, **kwargs)\n",
        "\n",
        "test_loader = torch.utils.data.DataLoader(\n",
        "  test_dataset, batch_size=args.batch_size, \n",
        "    shuffle=False, **kwargs)"
      ],
      "execution_count": null,
      "outputs": []
    },
    {
      "cell_type": "code",
      "metadata": {
        "id": "sY7QMgvpTcv4"
      },
      "source": [
        "def adjust_learning_rate(optimizer, epoch):\n",
        "    \"\"\"Sets the learning rate to the initial LR decayed by 10 every 30 epochs\"\"\"\n",
        "    lr = args.lr * (0.1 ** (epoch // 30))\n",
        "    for param_group in optimizer.param_groups:\n",
        "        param_group['lr'] = lr\n",
        "\n",
        "def process(train_loader, test_loader):\n",
        "    \n",
        "    model = torchvision.models.__dict__[args.arch]()\n",
        "    if args.arch.startswith('alexnet') or args.arch.startswith('vgg'):\n",
        "        model.features = torch.nn.DataParallel(model.features)\n",
        "        model ##.cuda()\n",
        "    else:\n",
        "        model = torch.nn.DataParallel(model) ##.cuda()\n",
        "\n",
        "    # define loss function (criterion) and optimizer\n",
        "    criterion = torch.nn.CrossEntropyLoss() ##.cuda()\n",
        "    optimizer = torch.optim.SGD(model.parameters(), args.lr,\n",
        "                                momentum=args.momentum,\n",
        "                                weight_decay=args.weight_decay)\n",
        "\n",
        "    # train & test process\n",
        "    def train(train_loader):\n",
        "        model.train()\n",
        "        for batch_idx, (data, target) in enumerate(train_loader):            \n",
        "            data, target = data.to(device), target.to(device)\n",
        "            optimizer.zero_grad()\n",
        "            output = model(data)\n",
        "            loss = criterion(output, target)\n",
        "            loss.backward()\n",
        "            optimizer.step()\n",
        "            \n",
        "            print('\\rTraining %d/%d' % (batch_idx + 1, len(train_loader)), end='', flush=True)\n",
        "\n",
        "    def test(test_loader):\n",
        "        model.eval()\n",
        "        correct = 0\n",
        "        targets, preds = [], []\n",
        "        with torch.no_grad():\n",
        "            for data, target in test_loader:\n",
        "                data, target = data.to(device), target.to(device)\n",
        "                output = model(data)\n",
        "                pred = output.max(1, keepdim=True)[1] # get the index of the max log-probability\n",
        "                correct += pred.eq(target.view_as(pred)).sum().item()\n",
        "                \n",
        "                targets += list(target.cpu().numpy())\n",
        "                preds += list(pred.cpu().numpy())\n",
        "\n",
        "        test_acc = 100. * correct / len(test_loader.dataset)\n",
        "        confusion_mtx = sm.confusion_matrix(targets, preds)\n",
        "        return test_acc, confusion_mtx\n",
        "    \n",
        "    test_accs, confusion_mtxes = [], []    \n",
        "    for epoch in range(1, args.epochs + 1):\n",
        "        adjust_learning_rate(optimizer, epoch)\n",
        "        train(train_loader)\n",
        "        test_acc, confusion_mtx = test(test_loader)\n",
        "        test_accs.append(test_acc)\n",
        "        confusion_mtxes.append(confusion_mtx)\n",
        "        print('\\rBest test acc = %2.2f%%' % max(test_accs), end='', flush=True)\n",
        "        \n",
        "    vis(test_accs, confusion_mtxes, classe_labels)"
      ],
      "execution_count": null,
      "outputs": []
    },
    {
      "cell_type": "code",
      "metadata": {
        "id": "vG4IT7AaVCXO"
      },
      "source": [
        "labels = [list(np.repeat(label,len(values))) for label, values in train_loader.dataset.images.items()]"
      ],
      "execution_count": null,
      "outputs": []
    },
    {
      "cell_type": "code",
      "metadata": {
        "id": "KQjtaNYaWRda"
      },
      "source": [
        "labels = [ li for i in labels for li in i]"
      ],
      "execution_count": null,
      "outputs": []
    },
    {
      "cell_type": "code",
      "metadata": {
        "id": "P5pnmLLrX8fN",
        "outputId": "ec89a9fe-2abb-478d-8ba5-56fe46dda2e3",
        "colab": {
          "base_uri": "https://localhost:8080/",
          "height": 54
        }
      },
      "source": [
        "print(labels)"
      ],
      "execution_count": null,
      "outputs": [
        {
          "output_type": "stream",
          "text": [
            "['normal', 'normal', 'normal', 'normal', 'normal', 'normal', 'normal', 'normal', 'normal', 'normal', 'normal', 'normal', 'normal', 'normal', 'normal', 'normal', 'normal', 'normal', 'normal', 'normal', 'normal', 'normal', 'normal', 'normal', 'normal', 'normal', 'normal', 'normal', 'normal', 'normal', 'normal', 'normal', 'normal', 'normal', 'normal', 'normal', 'normal', 'normal', 'normal', 'normal', 'normal', 'normal', 'normal', 'normal', 'normal', 'normal', 'normal', 'normal', 'normal', 'normal', 'normal', 'normal', 'normal', 'normal', 'normal', 'normal', 'normal', 'normal', 'normal', 'normal', 'normal', 'normal', 'normal', 'normal', 'normal', 'normal', 'normal', 'normal', 'normal', 'normal', 'normal', 'normal', 'normal', 'normal', 'normal', 'normal', 'normal', 'normal', 'normal', 'normal', 'normal', 'normal', 'normal', 'normal', 'normal', 'normal', 'normal', 'normal', 'normal', 'normal', 'normal', 'normal', 'normal', 'normal', 'normal', 'normal', 'normal', 'normal', 'normal', 'normal', 'normal', 'normal', 'normal', 'normal', 'normal', 'normal', 'normal', 'normal', 'normal', 'normal', 'normal', 'normal', 'normal', 'normal', 'normal', 'normal', 'normal', 'normal', 'normal', 'normal', 'normal', 'normal', 'normal', 'normal', 'normal', 'normal', 'normal', 'normal', 'normal', 'normal', 'normal', 'normal', 'normal', 'normal', 'normal', 'normal', 'normal', 'normal', 'normal', 'normal', 'normal', 'normal', 'normal', 'normal', 'normal', 'normal', 'normal', 'normal', 'normal', 'normal', 'normal', 'normal', 'normal', 'normal', 'normal', 'normal', 'normal', 'normal', 'normal', 'normal', 'normal', 'normal', 'normal', 'normal', 'normal', 'normal', 'normal', 'normal', 'normal', 'normal', 'normal', 'normal', 'normal', 'normal', 'normal', 'normal', 'normal', 'normal', 'normal', 'normal', 'normal', 'normal', 'normal', 'normal', 'normal', 'normal', 'normal', 'normal', 'normal', 'normal', 'normal', 'normal', 'normal', 'normal', 'normal', 'normal', 'normal', 'normal', 'normal', 'normal', 'normal', 'normal', 'normal', 'normal', 'normal', 'normal', 'normal', 'normal', 'normal', 'normal', 'normal', 'normal', 'normal', 'normal', 'normal', 'normal', 'normal', 'normal', 'normal', 'normal', 'normal', 'normal', 'normal', 'normal', 'normal', 'normal', 'normal', 'normal', 'normal', 'normal', 'normal', 'normal', 'normal', 'normal', 'normal', 'normal', 'normal', 'normal', 'normal', 'normal', 'normal', 'normal', 'normal', 'normal', 'normal', 'normal', 'normal', 'normal', 'normal', 'normal', 'normal', 'normal', 'normal', 'normal', 'normal', 'normal', 'normal', 'normal', 'normal', 'normal', 'normal', 'normal', 'normal', 'normal', 'normal', 'normal', 'normal', 'normal', 'normal', 'normal', 'normal', 'normal', 'normal', 'normal', 'normal', 'normal', 'normal', 'normal', 'normal', 'normal', 'normal', 'normal', 'normal', 'normal', 'normal', 'normal', 'normal', 'normal', 'normal', 'normal', 'normal', 'normal', 'normal', 'normal', 'normal', 'normal', 'normal', 'normal', 'normal', 'normal', 'normal', 'normal', 'normal', 'normal', 'normal', 'normal', 'normal', 'normal', 'normal', 'normal', 'normal', 'normal', 'normal', 'normal', 'normal', 'normal', 'normal', 'normal', 'normal', 'normal', 'normal', 'normal', 'normal', 'normal', 'normal', 'normal', 'normal', 'normal', 'normal', 'normal', 'normal', 'normal', 'normal', 'normal', 'normal', 'normal', 'normal', 'normal', 'normal', 'normal', 'normal', 'normal', 'normal', 'normal', 'normal', 'normal', 'normal', 'normal', 'normal', 'normal', 'normal', 'normal', 'normal', 'normal', 'normal', 'normal', 'normal', 'normal', 'normal', 'normal', 'normal', 'normal', 'normal', 'normal', 'normal', 'normal', 'normal', 'normal', 'normal', 'normal', 'normal', 'normal', 'normal', 'normal', 'normal', 'normal', 'normal', 'normal', 'normal', 'normal', 'normal', 'normal', 'normal', 'normal', 'normal', 'normal', 'normal', 'normal', 'normal', 'normal', 'normal', 'normal', 'normal', 'normal', 'normal', 'normal', 'normal', 'normal', 'normal', 'normal', 'normal', 'normal', 'normal', 'normal', 'normal', 'normal', 'normal', 'normal', 'normal', 'normal', 'normal', 'normal', 'normal', 'normal', 'normal', 'normal', 'normal', 'normal', 'normal', 'normal', 'normal', 'normal', 'normal', 'normal', 'normal', 'normal', 'normal', 'normal', 'normal', 'normal', 'normal', 'normal', 'normal', 'normal', 'normal', 'normal', 'normal', 'normal', 'normal', 'normal', 'normal', 'normal', 'normal', 'normal', 'normal', 'normal', 'normal', 'normal', 'normal', 'normal', 'normal', 'normal', 'normal', 'normal', 'normal', 'normal', 'normal', 'normal', 'normal', 'normal', 'normal', 'normal', 'normal', 'normal', 'normal', 'normal', 'normal', 'normal', 'normal', 'normal', 'normal', 'normal', 'normal', 'normal', 'normal', 'normal', 'normal', 'normal', 'normal', 'normal', 'normal', 'normal', 'normal', 'normal', 'normal', 'normal', 'normal', 'normal', 'normal', 'normal', 'normal', 'normal', 'normal', 'normal', 'normal', 'normal', 'normal', 'normal', 'normal', 'normal', 'normal', 'normal', 'normal', 'normal', 'normal', 'normal', 'normal', 'normal', 'normal', 'normal', 'normal', 'normal', 'normal', 'normal', 'normal', 'normal', 'normal', 'normal', 'normal', 'normal', 'normal', 'normal', 'normal', 'normal', 'normal', 'normal', 'normal', 'normal', 'normal', 'normal', 'normal', 'normal', 'normal', 'normal', 'normal', 'normal', 'normal', 'normal', 'normal', 'normal', 'normal', 'normal', 'normal', 'normal', 'normal', 'normal', 'normal', 'normal', 'normal', 'normal', 'normal', 'normal', 'normal', 'normal', 'normal', 'normal', 'normal', 'normal', 'normal', 'normal', 'normal', 'normal', 'normal', 'normal', 'normal', 'normal', 'normal', 'normal', 'normal', 'normal', 'normal', 'normal', 'normal', 'normal', 'normal', 'normal', 'normal', 'normal', 'normal', 'normal', 'normal', 'normal', 'normal', 'normal', 'normal', 'normal', 'normal', 'normal', 'normal', 'normal', 'normal', 'normal', 'normal', 'normal', 'normal', 'normal', 'normal', 'normal', 'normal', 'normal', 'normal', 'normal', 'normal', 'normal', 'normal', 'normal', 'normal', 'normal', 'normal', 'normal', 'normal', 'normal', 'normal', 'normal', 'normal', 'normal', 'normal', 'normal', 'normal', 'normal', 'normal', 'normal', 'normal', 'normal', 'normal', 'normal', 'normal', 'normal', 'normal', 'normal', 'normal', 'normal', 'normal', 'normal', 'normal', 'normal', 'normal', 'normal', 'normal', 'normal', 'normal', 'normal', 'normal', 'normal', 'normal', 'normal', 'normal', 'normal', 'normal', 'normal', 'normal', 'normal', 'normal', 'normal', 'normal', 'normal', 'normal', 'normal', 'normal', 'normal', 'normal', 'normal', 'normal', 'normal', 'normal', 'normal', 'normal', 'normal', 'normal', 'normal', 'normal', 'normal', 'normal', 'normal', 'normal', 'normal', 'normal', 'normal', 'normal', 'normal', 'normal', 'normal', 'normal', 'normal', 'normal', 'normal', 'normal', 'normal', 'normal', 'normal', 'normal', 'normal', 'normal', 'normal', 'normal', 'normal', 'normal', 'normal', 'normal', 'normal', 'normal', 'normal', 'normal', 'normal', 'normal', 'normal', 'normal', 'normal', 'normal', 'normal', 'normal', 'normal', 'normal', 'normal', 'normal', 'normal', 'normal', 'normal', 'normal', 'normal', 'normal', 'normal', 'normal', 'normal', 'normal', 'normal', 'normal', 'normal', 'normal', 'normal', 'normal', 'normal', 'normal', 'normal', 'normal', 'normal', 'normal', 'normal', 'normal', 'normal', 'normal', 'normal', 'normal', 'normal', 'normal', 'normal', 'normal', 'normal', 'normal', 'normal', 'normal', 'normal', 'normal', 'normal', 'normal', 'normal', 'normal', 'normal', 'normal', 'normal', 'normal', 'normal', 'normal', 'normal', 'normal', 'normal', 'normal', 'normal', 'normal', 'normal', 'normal', 'normal', 'normal', 'normal', 'normal', 'normal', 'normal', 'normal', 'normal', 'normal', 'normal', 'normal', 'normal', 'normal', 'normal', 'normal', 'normal', 'normal', 'normal', 'normal', 'normal', 'normal', 'normal', 'normal', 'normal', 'normal', 'normal', 'normal', 'normal', 'normal', 'normal', 'normal', 'normal', 'normal', 'normal', 'normal', 'normal', 'normal', 'normal', 'normal', 'normal', 'normal', 'normal', 'normal', 'normal', 'normal', 'normal', 'normal', 'normal', 'normal', 'normal', 'normal', 'normal', 'normal', 'normal', 'normal', 'normal', 'normal', 'normal', 'normal', 'normal', 'normal', 'normal', 'normal', 'normal', 'normal', 'normal', 'normal', 'normal', 'normal', 'normal', 'normal', 'normal', 'normal', 'normal', 'normal', 'normal', 'normal', 'normal', 'normal', 'normal', 'normal', 'normal', 'normal', 'normal', 'normal', 'normal', 'normal', 'normal', 'normal', 'normal', 'normal', 'normal', 'normal', 'normal', 'normal', 'normal', 'normal', 'normal', 'normal', 'normal', 'normal', 'normal', 'normal', 'normal', 'normal', 'normal', 'normal', 'normal', 'normal', 'normal', 'normal', 'normal', 'normal', 'normal', 'normal', 'normal', 'normal', 'normal', 'normal', 'normal', 'normal', 'normal', 'normal', 'normal', 'normal', 'normal', 'normal', 'normal', 'normal', 'normal', 'normal', 'normal', 'normal', 'normal', 'normal', 'normal', 'normal', 'normal', 'normal', 'normal', 'normal', 'normal', 'normal', 'normal', 'normal', 'normal', 'normal', 'normal', 'normal', 'normal', 'normal', 'normal', 'normal', 'normal', 'normal', 'normal', 'normal', 'normal', 'normal', 'normal', 'normal', 'normal', 'normal', 'normal', 'normal', 'normal', 'normal', 'normal', 'normal', 'normal', 'normal', 'normal', 'normal', 'normal', 'normal', 'normal', 'normal', 'normal', 'normal', 'normal', 'normal', 'normal', 'normal', 'normal', 'normal', 'normal', 'normal', 'normal', 'normal', 'normal', 'normal', 'normal', 'normal', 'normal', 'normal', 'normal', 'normal', 'normal', 'normal', 'normal', 'normal', 'normal', 'normal', 'normal', 'normal', 'normal', 'normal', 'normal', 'normal', 'normal', 'normal', 'normal', 'normal', 'normal', 'normal', 'normal', 'normal', 'normal', 'normal', 'normal', 'normal', 'normal', 'normal', 'normal', 'normal', 'normal', 'normal', 'normal', 'normal', 'normal', 'normal', 'normal', 'normal', 'normal', 'normal', 'normal', 'normal', 'normal', 'normal', 'normal', 'normal', 'normal', 'normal', 'normal', 'normal', 'normal', 'normal', 'normal', 'normal', 'normal', 'normal', 'normal', 'normal', 'normal', 'normal', 'normal', 'normal', 'normal', 'normal', 'normal', 'normal', 'normal', 'normal', 'normal', 'normal', 'normal', 'normal', 'normal', 'normal', 'normal', 'normal', 'normal', 'normal', 'normal', 'normal', 'normal', 'normal', 'normal', 'normal', 'normal', 'normal', 'normal', 'normal', 'normal', 'normal', 'normal', 'normal', 'normal', 'normal', 'normal', 'normal', 'normal', 'normal', 'normal', 'normal', 'normal', 'normal', 'normal', 'normal', 'normal', 'normal', 'normal', 'normal', 'normal', 'normal', 'normal', 'normal', 'normal', 'normal', 'normal', 'normal', 'normal', 'normal', 'normal', 'normal', 'normal', 'normal', 'normal', 'normal', 'normal', 'normal', 'normal', 'normal', 'normal', 'normal', 'normal', 'normal', 'normal', 'normal', 'normal', 'normal', 'normal', 'normal', 'normal', 'normal', 'normal', 'normal', 'normal', 'normal', 'normal', 'normal', 'normal', 'normal', 'normal', 'normal', 'normal', 'normal', 'normal', 'normal', 'normal', 'normal', 'normal', 'normal', 'normal', 'normal', 'normal', 'normal', 'normal', 'normal', 'normal', 'normal', 'normal', 'normal', 'normal', 'normal', 'normal', 'normal', 'normal', 'normal', 'normal', 'normal', 'normal', 'normal', 'normal', 'normal', 'normal', 'normal', 'normal', 'normal', 'normal', 'normal', 'normal', 'normal', 'normal', 'normal', 'normal', 'normal', 'normal', 'normal', 'normal', 'normal', 'normal', 'normal', 'normal', 'normal', 'normal', 'normal', 'normal', 'normal', 'normal', 'normal', 'normal', 'normal', 'normal', 'normal', 'normal', 'normal', 'normal', 'normal', 'normal', 'normal', 'normal', 'normal', 'normal', 'normal', 'normal', 'normal', 'normal', 'normal', 'normal', 'normal', 'normal', 'normal', 'normal', 'normal', 'normal', 'normal', 'normal', 'normal', 'normal', 'normal', 'normal', 'normal', 'normal', 'normal', 'normal', 'normal', 'normal', 'normal', 'normal', 'normal', 'normal', 'normal', 'normal', 'normal', 'normal', 'normal', 'normal', 'normal', 'normal', 'viral', 'viral', 'viral', 'viral', 'viral', 'viral', 'viral', 'viral', 'viral', 'viral', 'viral', 'viral', 'viral', 'viral', 'viral', 'viral', 'viral', 'viral', 'viral', 'viral', 'viral', 'viral', 'viral', 'viral', 'viral', 'viral', 'viral', 'viral', 'viral', 'viral', 'viral', 'viral', 'viral', 'viral', 'viral', 'viral', 'viral', 'viral', 'viral', 'viral', 'viral', 'viral', 'viral', 'viral', 'viral', 'viral', 'viral', 'viral', 'viral', 'viral', 'viral', 'viral', 'viral', 'viral', 'viral', 'viral', 'viral', 'viral', 'viral', 'viral', 'viral', 'viral', 'viral', 'viral', 'viral', 'viral', 'viral', 'viral', 'viral', 'viral', 'viral', 'viral', 'viral', 'viral', 'viral', 'viral', 'viral', 'viral', 'viral', 'viral', 'viral', 'viral', 'viral', 'viral', 'viral', 'viral', 'viral', 'viral', 'viral', 'viral', 'viral', 'viral', 'viral', 'viral', 'viral', 'viral', 'viral', 'viral', 'viral', 'viral', 'viral', 'viral', 'viral', 'viral', 'viral', 'viral', 'viral', 'viral', 'viral', 'viral', 'viral', 'viral', 'viral', 'viral', 'viral', 'viral', 'viral', 'viral', 'viral', 'viral', 'viral', 'viral', 'viral', 'viral', 'viral', 'viral', 'viral', 'viral', 'viral', 'viral', 'viral', 'viral', 'viral', 'viral', 'viral', 'viral', 'viral', 'viral', 'viral', 'viral', 'viral', 'viral', 'viral', 'viral', 'viral', 'viral', 'viral', 'viral', 'viral', 'viral', 'viral', 'viral', 'viral', 'viral', 'viral', 'viral', 'viral', 'viral', 'viral', 'viral', 'viral', 'viral', 'viral', 'viral', 'viral', 'viral', 'viral', 'viral', 'viral', 'viral', 'viral', 'viral', 'viral', 'viral', 'viral', 'viral', 'viral', 'viral', 'viral', 'viral', 'viral', 'viral', 'viral', 'viral', 'viral', 'viral', 'viral', 'viral', 'viral', 'viral', 'viral', 'viral', 'viral', 'viral', 'viral', 'viral', 'viral', 'viral', 'viral', 'viral', 'viral', 'viral', 'viral', 'viral', 'viral', 'viral', 'viral', 'viral', 'viral', 'viral', 'viral', 'viral', 'viral', 'viral', 'viral', 'viral', 'viral', 'viral', 'viral', 'viral', 'viral', 'viral', 'viral', 'viral', 'viral', 'viral', 'viral', 'viral', 'viral', 'viral', 'viral', 'viral', 'viral', 'viral', 'viral', 'viral', 'viral', 'viral', 'viral', 'viral', 'viral', 'viral', 'viral', 'viral', 'viral', 'viral', 'viral', 'viral', 'viral', 'viral', 'viral', 'viral', 'viral', 'viral', 'viral', 'viral', 'viral', 'viral', 'viral', 'viral', 'viral', 'viral', 'viral', 'viral', 'viral', 'viral', 'viral', 'viral', 'viral', 'viral', 'viral', 'viral', 'viral', 'viral', 'viral', 'viral', 'viral', 'viral', 'viral', 'viral', 'viral', 'viral', 'viral', 'viral', 'viral', 'viral', 'viral', 'viral', 'viral', 'viral', 'viral', 'viral', 'viral', 'viral', 'viral', 'viral', 'viral', 'viral', 'viral', 'viral', 'viral', 'viral', 'viral', 'viral', 'viral', 'viral', 'viral', 'viral', 'viral', 'viral', 'viral', 'viral', 'viral', 'viral', 'viral', 'viral', 'viral', 'viral', 'viral', 'viral', 'viral', 'viral', 'viral', 'viral', 'viral', 'viral', 'viral', 'viral', 'viral', 'viral', 'viral', 'viral', 'viral', 'viral', 'viral', 'viral', 'viral', 'viral', 'viral', 'viral', 'viral', 'viral', 'viral', 'viral', 'viral', 'viral', 'viral', 'viral', 'viral', 'viral', 'viral', 'viral', 'viral', 'viral', 'viral', 'viral', 'viral', 'viral', 'viral', 'viral', 'viral', 'viral', 'viral', 'viral', 'viral', 'viral', 'viral', 'viral', 'viral', 'viral', 'viral', 'viral', 'viral', 'viral', 'viral', 'viral', 'viral', 'viral', 'viral', 'viral', 'viral', 'viral', 'viral', 'viral', 'viral', 'viral', 'viral', 'viral', 'viral', 'viral', 'viral', 'viral', 'viral', 'viral', 'viral', 'viral', 'viral', 'viral', 'viral', 'viral', 'viral', 'viral', 'viral', 'viral', 'viral', 'viral', 'viral', 'viral', 'viral', 'viral', 'viral', 'viral', 'viral', 'viral', 'viral', 'viral', 'viral', 'viral', 'viral', 'viral', 'viral', 'viral', 'viral', 'viral', 'viral', 'viral', 'viral', 'viral', 'viral', 'viral', 'viral', 'viral', 'viral', 'viral', 'viral', 'viral', 'viral', 'viral', 'viral', 'viral', 'viral', 'viral', 'viral', 'viral', 'viral', 'viral', 'viral', 'viral', 'viral', 'viral', 'viral', 'viral', 'viral', 'viral', 'viral', 'viral', 'viral', 'viral', 'viral', 'viral', 'viral', 'viral', 'viral', 'viral', 'viral', 'viral', 'viral', 'viral', 'viral', 'viral', 'viral', 'viral', 'viral', 'viral', 'viral', 'viral', 'viral', 'viral', 'viral', 'viral', 'viral', 'viral', 'viral', 'viral', 'viral', 'viral', 'viral', 'viral', 'viral', 'viral', 'viral', 'viral', 'viral', 'viral', 'viral', 'viral', 'viral', 'viral', 'viral', 'viral', 'viral', 'viral', 'viral', 'viral', 'viral', 'viral', 'viral', 'viral', 'viral', 'viral', 'viral', 'viral', 'viral', 'viral', 'viral', 'viral', 'viral', 'viral', 'viral', 'viral', 'viral', 'viral', 'viral', 'viral', 'viral', 'viral', 'viral', 'viral', 'viral', 'viral', 'viral', 'viral', 'viral', 'viral', 'viral', 'viral', 'viral', 'viral', 'viral', 'viral', 'viral', 'viral', 'viral', 'viral', 'viral', 'viral', 'viral', 'viral', 'viral', 'viral', 'viral', 'viral', 'viral', 'viral', 'viral', 'viral', 'viral', 'viral', 'viral', 'viral', 'viral', 'viral', 'viral', 'viral', 'viral', 'viral', 'viral', 'viral', 'viral', 'viral', 'viral', 'viral', 'viral', 'viral', 'viral', 'viral', 'viral', 'viral', 'viral', 'viral', 'viral', 'viral', 'viral', 'viral', 'viral', 'viral', 'viral', 'viral', 'viral', 'viral', 'viral', 'viral', 'viral', 'viral', 'viral', 'viral', 'viral', 'viral', 'viral', 'viral', 'viral', 'viral', 'viral', 'viral', 'viral', 'viral', 'viral', 'viral', 'viral', 'viral', 'viral', 'viral', 'viral', 'viral', 'viral', 'viral', 'viral', 'viral', 'viral', 'viral', 'viral', 'viral', 'viral', 'viral', 'viral', 'viral', 'viral', 'viral', 'viral', 'viral', 'viral', 'viral', 'viral', 'viral', 'viral', 'viral', 'viral', 'viral', 'viral', 'viral', 'viral', 'viral', 'viral', 'viral', 'viral', 'viral', 'viral', 'viral', 'viral', 'viral', 'viral', 'viral', 'viral', 'viral', 'viral', 'viral', 'viral', 'viral', 'viral', 'viral', 'viral', 'viral', 'viral', 'viral', 'viral', 'viral', 'viral', 'viral', 'viral', 'viral', 'viral', 'viral', 'viral', 'viral', 'viral', 'viral', 'viral', 'viral', 'viral', 'viral', 'viral', 'viral', 'viral', 'viral', 'viral', 'viral', 'viral', 'viral', 'viral', 'viral', 'viral', 'viral', 'viral', 'viral', 'viral', 'viral', 'viral', 'viral', 'viral', 'viral', 'viral', 'viral', 'viral', 'viral', 'viral', 'viral', 'viral', 'viral', 'viral', 'viral', 'viral', 'viral', 'viral', 'viral', 'viral', 'viral', 'viral', 'viral', 'viral', 'viral', 'viral', 'viral', 'viral', 'viral', 'viral', 'viral', 'viral', 'viral', 'viral', 'viral', 'viral', 'viral', 'viral', 'viral', 'viral', 'viral', 'viral', 'viral', 'viral', 'viral', 'viral', 'viral', 'viral', 'viral', 'viral', 'viral', 'viral', 'viral', 'viral', 'viral', 'viral', 'viral', 'viral', 'viral', 'viral', 'viral', 'viral', 'viral', 'viral', 'viral', 'viral', 'viral', 'viral', 'viral', 'viral', 'viral', 'viral', 'viral', 'viral', 'viral', 'viral', 'viral', 'viral', 'viral', 'viral', 'viral', 'viral', 'viral', 'viral', 'viral', 'viral', 'viral', 'viral', 'viral', 'viral', 'viral', 'viral', 'viral', 'viral', 'viral', 'viral', 'viral', 'viral', 'viral', 'viral', 'viral', 'viral', 'viral', 'viral', 'viral', 'viral', 'viral', 'viral', 'viral', 'viral', 'viral', 'viral', 'viral', 'viral', 'viral', 'viral', 'viral', 'viral', 'viral', 'viral', 'viral', 'viral', 'viral', 'viral', 'viral', 'viral', 'viral', 'viral', 'viral', 'viral', 'viral', 'viral', 'viral', 'viral', 'viral', 'viral', 'viral', 'viral', 'viral', 'viral', 'viral', 'viral', 'viral', 'viral', 'viral', 'viral', 'viral', 'viral', 'viral', 'viral', 'viral', 'viral', 'viral', 'viral', 'viral', 'viral', 'viral', 'viral', 'viral', 'viral', 'viral', 'viral', 'viral', 'viral', 'viral', 'viral', 'viral', 'viral', 'viral', 'viral', 'viral', 'viral', 'viral', 'viral', 'viral', 'viral', 'viral', 'viral', 'viral', 'viral', 'viral', 'viral', 'viral', 'viral', 'viral', 'viral', 'viral', 'viral', 'viral', 'viral', 'viral', 'viral', 'viral', 'viral', 'viral', 'viral', 'viral', 'viral', 'viral', 'viral', 'viral', 'viral', 'viral', 'viral', 'viral', 'viral', 'viral', 'viral', 'viral', 'viral', 'viral', 'viral', 'viral', 'viral', 'viral', 'viral', 'viral', 'viral', 'viral', 'viral', 'viral', 'viral', 'viral', 'viral', 'viral', 'viral', 'viral', 'viral', 'viral', 'viral', 'viral', 'viral', 'viral', 'viral', 'viral', 'viral', 'viral', 'viral', 'viral', 'viral', 'viral', 'viral', 'viral', 'viral', 'viral', 'viral', 'viral', 'viral', 'viral', 'viral', 'viral', 'viral', 'viral', 'viral', 'viral', 'viral', 'viral', 'viral', 'viral', 'viral', 'viral', 'viral', 'viral', 'viral', 'viral', 'viral', 'viral', 'viral', 'viral', 'viral', 'viral', 'viral', 'viral', 'viral', 'viral', 'viral', 'viral', 'viral', 'viral', 'viral', 'viral', 'viral', 'viral', 'viral', 'viral', 'viral', 'viral', 'viral', 'viral', 'viral', 'viral', 'viral', 'viral', 'viral', 'viral', 'viral', 'viral', 'viral', 'viral', 'viral', 'viral', 'viral', 'viral', 'viral', 'viral', 'viral', 'viral', 'viral', 'viral', 'viral', 'viral', 'viral', 'viral', 'viral', 'viral', 'viral', 'viral', 'viral', 'viral', 'viral', 'viral', 'viral', 'viral', 'viral', 'viral', 'viral', 'viral', 'viral', 'viral', 'viral', 'viral', 'viral', 'viral', 'viral', 'viral', 'viral', 'viral', 'viral', 'viral', 'viral', 'viral', 'viral', 'viral', 'viral', 'viral', 'viral', 'viral', 'viral', 'viral', 'viral', 'viral', 'viral', 'viral', 'viral', 'viral', 'viral', 'viral', 'viral', 'viral', 'viral', 'viral', 'viral', 'viral', 'viral', 'viral', 'viral', 'viral', 'viral', 'viral', 'viral', 'viral', 'viral', 'viral', 'viral', 'viral', 'viral', 'viral', 'viral', 'viral', 'viral', 'viral', 'viral', 'viral', 'viral', 'viral', 'viral', 'viral', 'viral', 'viral', 'viral', 'viral', 'viral', 'viral', 'viral', 'viral', 'viral', 'viral', 'viral', 'viral', 'viral', 'viral', 'viral', 'viral', 'viral', 'viral', 'viral', 'viral', 'viral', 'viral', 'viral', 'viral', 'viral', 'viral', 'viral', 'viral', 'viral', 'viral', 'viral', 'viral', 'viral', 'viral', 'viral', 'viral', 'viral', 'viral', 'viral', 'viral', 'viral', 'viral', 'viral', 'viral', 'viral', 'viral', 'viral', 'viral', 'viral', 'viral', 'viral', 'viral', 'viral', 'viral', 'viral', 'viral', 'viral', 'viral', 'viral', 'viral', 'viral', 'viral', 'viral', 'viral', 'viral', 'viral', 'viral', 'viral', 'viral', 'viral', 'viral', 'viral', 'viral', 'viral', 'viral', 'viral', 'viral', 'viral', 'viral', 'viral', 'viral', 'viral', 'viral', 'viral', 'viral', 'viral', 'viral', 'viral', 'viral', 'viral', 'viral', 'viral', 'viral', 'viral', 'viral', 'viral', 'viral', 'viral', 'viral', 'viral', 'viral', 'viral', 'viral', 'viral', 'viral', 'viral', 'viral', 'viral', 'viral', 'viral', 'viral', 'viral', 'viral', 'viral', 'viral', 'viral', 'viral', 'viral', 'viral', 'viral', 'viral', 'viral', 'viral', 'viral', 'viral', 'viral', 'viral', 'viral', 'viral', 'viral', 'viral', 'viral', 'viral', 'viral', 'viral', 'viral', 'viral', 'viral', 'viral', 'viral', 'viral', 'viral', 'viral', 'covid', 'covid', 'covid', 'covid', 'covid', 'covid', 'covid', 'covid', 'covid', 'covid', 'covid', 'covid', 'covid', 'covid', 'covid', 'covid', 'covid', 'covid', 'covid', 'covid', 'covid', 'covid', 'covid', 'covid', 'covid', 'covid', 'covid', 'covid', 'covid', 'covid', 'covid', 'covid', 'covid', 'covid', 'covid', 'covid', 'covid', 'covid', 'covid', 'covid', 'covid', 'covid', 'covid', 'covid', 'covid', 'covid', 'covid', 'covid', 'covid', 'covid', 'covid', 'covid', 'covid', 'covid', 'covid', 'covid', 'covid', 'covid', 'covid', 'covid', 'covid', 'covid', 'covid', 'covid', 'covid', 'covid', 'covid', 'covid', 'covid', 'covid', 'covid', 'covid', 'covid', 'covid', 'covid', 'covid', 'covid', 'covid', 'covid', 'covid', 'covid', 'covid', 'covid', 'covid', 'covid', 'covid', 'covid', 'covid', 'covid', 'covid', 'covid', 'covid', 'covid', 'covid', 'covid', 'covid', 'covid', 'covid', 'covid']\n"
          ],
          "name": "stdout"
        }
      ]
    },
    {
      "cell_type": "code",
      "metadata": {
        "id": "9wxpQPFKUiKh",
        "outputId": "e38c822d-cac6-457c-eda4-a666ecf2fe95",
        "colab": {
          "base_uri": "https://localhost:8080/",
          "height": 503
        }
      },
      "source": [
        "%matplotlib inline\n",
        "import matplotlib.pyplot as plt\n",
        "        \n",
        "!pip install seaborn\n",
        "import seaborn as sns\n",
        "\n",
        "print('Dataset: %d training samples & %d testing samples\\n' % (\n",
        "    len(train_loader.dataset), len(test_loader.dataset)))\n",
        " \n",
        "print('Distribution of classes in dataset:')\n",
        "fig, ax = plt.subplots()\n",
        "labels = labels\n",
        "classe_labels, counts = np.unique(labels, return_counts=True)\n",
        "ax.bar(classe_labels, counts)\n",
        "ax.set_xticks(classe_labels)\n",
        "plt.show()\n",
        "\n",
        "def vis(test_accs, confusion_mtxes, labels, figsize=(20, 8)):\n",
        "    \n",
        "    cm = confusion_mtxes[np.argmax(test_accs)]\n",
        "    cm_sum = np.sum(cm, axis=1, keepdims=True)\n",
        "    cm_perc = cm / cm_sum * 100\n",
        "    annot = np.empty_like(cm).astype(str)\n",
        "    nrows, ncols = cm.shape\n",
        "    for i in range(nrows):\n",
        "        for j in range(ncols):\n",
        "            c = cm[i, j]\n",
        "            p = cm_perc[i, j]\n",
        "            if c == 0:\n",
        "                annot[i, j] = ''\n",
        "            else:\n",
        "                annot[i, j] = '%.1f%%' % p\n",
        "    cm = pd.DataFrame(cm, index=labels, columns=labels)\n",
        "    cm.index.name = 'Actual'\n",
        "    cm.columns.name = 'Predicted'\n",
        "    \n",
        "    fig = plt.figure(figsize=figsize)\n",
        "    plt.subplot(1, 2, 1)\n",
        "    plt.plot(test_accs, 'g')\n",
        "    plt.grid(True)\n",
        "    \n",
        "    plt.subplot(1, 2, 2)\n",
        "    sns.heatmap(cm, annot=annot, fmt='', cmap=\"Blues\")\n",
        "    plt.show()"
      ],
      "execution_count": null,
      "outputs": [
        {
          "output_type": "stream",
          "text": [
            "Requirement already satisfied: seaborn in /usr/local/lib/python3.6/dist-packages (0.11.0)\n",
            "Requirement already satisfied: numpy>=1.15 in /usr/local/lib/python3.6/dist-packages (from seaborn) (1.18.5)\n",
            "Requirement already satisfied: matplotlib>=2.2 in /usr/local/lib/python3.6/dist-packages (from seaborn) (3.2.2)\n",
            "Requirement already satisfied: pandas>=0.23 in /usr/local/lib/python3.6/dist-packages (from seaborn) (1.1.3)\n",
            "Requirement already satisfied: scipy>=1.0 in /usr/local/lib/python3.6/dist-packages (from seaborn) (1.4.1)\n",
            "Requirement already satisfied: python-dateutil>=2.1 in /usr/local/lib/python3.6/dist-packages (from matplotlib>=2.2->seaborn) (2.8.1)\n",
            "Requirement already satisfied: pyparsing!=2.0.4,!=2.1.2,!=2.1.6,>=2.0.1 in /usr/local/lib/python3.6/dist-packages (from matplotlib>=2.2->seaborn) (2.4.7)\n",
            "Requirement already satisfied: cycler>=0.10 in /usr/local/lib/python3.6/dist-packages (from matplotlib>=2.2->seaborn) (0.10.0)\n",
            "Requirement already satisfied: kiwisolver>=1.0.1 in /usr/local/lib/python3.6/dist-packages (from matplotlib>=2.2->seaborn) (1.2.0)\n",
            "Requirement already satisfied: pytz>=2017.2 in /usr/local/lib/python3.6/dist-packages (from pandas>=0.23->seaborn) (2018.9)\n",
            "Requirement already satisfied: six>=1.5 in /usr/local/lib/python3.6/dist-packages (from python-dateutil>=2.1->matplotlib>=2.2->seaborn) (1.15.0)\n",
            "Dataset: 2545 training samples & 90 testing samples\n",
            "\n",
            "Distribution of classes in dataset:\n"
          ],
          "name": "stdout"
        },
        {
          "output_type": "display_data",
          "data": {
            "image/png": "[encoded data removed]",
            "text/plain": [
              "<Figure size 432x288 with 1 Axes>"
            ]
          },
          "metadata": {
            "tags": [],
            "needs_background": "light"
          }
        }
      ]
    },
    {
      "cell_type": "code",
      "metadata": {
        "id": "TB-AvfXaUmpp"
      },
      "source": [
        "process(train_loader, test_loader)"
      ],
      "execution_count": null,
      "outputs": []
    },
    {
      "cell_type": "code",
      "metadata": {
        "id": "u68gMwZk58fO"
      },
      "source": [
        "isinstance(train_dataset, torch.utils.data.Subset)"
      ],
      "execution_count": null,
      "outputs": []
    },
    {
      "cell_type": "code",
      "metadata": {
        "id": "NDjT8eY_6y0h"
      },
      "source": [
        "isinstance(train_dataset, ChestXRayDataset)"
      ],
      "execution_count": null,
      "outputs": []
    },
    {
      "cell_type": "code",
      "metadata": {
        "id": "qQ7gd5gx7AL5"
      },
      "source": [
        "train_dataset.__getitem__(0)[1]\n"
      ],
      "execution_count": null,
      "outputs": []
    },
    {
      "cell_type": "code",
      "metadata": {
        "id": "Zq5J9ePn8YWt"
      },
      "source": [
        "type(train_dataset)"
      ],
      "execution_count": null,
      "outputs": []
    },
    {
      "cell_type": "code",
      "metadata": {
        "id": "L-vjQIifAtF1"
      },
      "source": [
        "len(train_dataset)"
      ],
      "execution_count": null,
      "outputs": []
    },
    {
      "cell_type": "code",
      "metadata": {
        "id": "enBCWSrfHOJi"
      },
      "source": [
        "indices = list(range(len(train_dataset)))"
      ],
      "execution_count": null,
      "outputs": []
    },
    {
      "cell_type": "code",
      "metadata": {
        "id": "S-4oDE76Hicq"
      },
      "source": [
        "len(indices)"
      ],
      "execution_count": null,
      "outputs": []
    },
    {
      "cell_type": "code",
      "metadata": {
        "id": "bIKCWHmJHkdZ",
        "outputId": "7b2516ed-96ac-4960-d95d-8e69e965e447",
        "colab": {
          "base_uri": "https://localhost:8080/",
          "height": 34
        }
      },
      "source": [
        "train_dataset.__getitem__(2)[1]"
      ],
      "execution_count": null,
      "outputs": [
        {
          "output_type": "execute_result",
          "data": {
            "text/plain": [
              "0"
            ]
          },
          "metadata": {
            "tags": []
          },
          "execution_count": 27
        }
      ]
    },
    {
      "cell_type": "code",
      "metadata": {
        "id": "HMCS3bQ67kFS",
        "outputId": "9c1e1cf2-d1af-4253-a0e4-64a24d5ca061",
        "colab": {
          "base_uri": "https://localhost:8080/",
          "height": 357
        }
      },
      "source": [
        "gpu_info = !nvidia-smi\n",
        "gpu_info = '\\n'.join(gpu_info)\n",
        "if gpu_info.find('failed') >= 0:\n",
        "  print('Select the Runtime > \"Change runtime type\" menu to enable a GPU accelerator, ')\n",
        "  print('and then re-execute this cell.')\n",
        "else:\n",
        "  print(gpu_info)"
      ],
      "execution_count": null,
      "outputs": [
        {
          "output_type": "stream",
          "text": [
            "Wed Oct 28 06:41:39 2020       \n",
            "+-----------------------------------------------------------------------------+\n",
            "| NVIDIA-SMI 455.23.05    Driver Version: 418.67       CUDA Version: 10.1     |\n",
            "|-------------------------------+----------------------+----------------------+\n",
            "| GPU  Name        Persistence-M| Bus-Id        Disp.A | Volatile Uncorr. ECC |\n",
            "| Fan  Temp  Perf  Pwr:Usage/Cap|         Memory-Usage | GPU-Util  Compute M. |\n",
            "|                               |                      |               MIG M. |\n",
            "|===============================+======================+======================|\n",
            "|   0  Tesla P100-PCIE...  Off  | 00000000:00:04.0 Off |                    0 |\n",
            "| N/A   42C    P0    27W / 250W |      0MiB / 16280MiB |      0%      Default |\n",
            "|                               |                      |                 ERR! |\n",
            "+-------------------------------+----------------------+----------------------+\n",
            "                                                                               \n",
            "+-----------------------------------------------------------------------------+\n",
            "| Processes:                                                                  |\n",
            "|  GPU   GI   CI        PID   Type   Process name                  GPU Memory |\n",
            "|        ID   ID                                                   Usage      |\n",
            "|=============================================================================|\n",
            "|  No running processes found                                                 |\n",
            "+-----------------------------------------------------------------------------+\n"
          ],
          "name": "stdout"
        }
      ]
    },
    {
      "cell_type": "code",
      "metadata": {
        "id": "FTs0rvM17qc9",
        "outputId": "222b2545-4f4f-4ac4-bfa1-676afea8e425",
        "colab": {
          "base_uri": "https://localhost:8080/",
          "height": 68
        }
      },
      "source": [
        "from psutil import virtual_memory\n",
        "ram_gb = virtual_memory().total / 1e9\n",
        "print('Your runtime has {:.1f} gigabytes of available RAM\\n'.format(ram_gb))\n",
        "\n",
        "if ram_gb < 20:\n",
        "  print('To enable a high-RAM runtime, select the Runtime > \"Change runtime type\"')\n",
        "  print('menu, and then select High-RAM in the Runtime shape dropdown. Then, ')\n",
        "  print('re-execute this cell.')\n",
        "else:\n",
        "  print('You are using a high-RAM runtime!')"
      ],
      "execution_count": null,
      "outputs": [
        {
          "output_type": "stream",
          "text": [
            "Your runtime has 27.4 gigabytes of available RAM\n",
            "\n",
            "You are using a high-RAM runtime!\n"
          ],
          "name": "stdout"
        }
      ]
    },
    {
      "cell_type": "code",
      "metadata": {
        "id": "Xy2lAc8y8a48",
        "outputId": "4256cbe4-cb82-4d8a-e45b-d3e2835578af",
        "colab": {
          "base_uri": "https://localhost:8080/",
          "height": 493
        }
      },
      "source": [
        "!python -m torch.utils.collect_env"
      ],
      "execution_count": null,
      "outputs": [
        {
          "output_type": "stream",
          "text": [
            "Collecting environment information...\n",
            "PyTorch version: 1.7.0+cu101\n",
            "Is debug build: True\n",
            "CUDA used to build PyTorch: 10.1\n",
            "ROCM used to build PyTorch: N/A\n",
            "\n",
            "OS: Ubuntu 18.04.5 LTS (x86_64)\n",
            "GCC version: (Ubuntu 7.5.0-3ubuntu1~18.04) 7.5.0\n",
            "Clang version: 6.0.0-1ubuntu2 (tags/RELEASE_600/final)\n",
            "CMake version: version 3.12.0\n",
            "\n",
            "Python version: 3.6 (64-bit runtime)\n",
            "Is CUDA available: False\n",
            "CUDA runtime version: 10.1.243\n",
            "GPU models and configuration: GPU 0: Tesla P100-PCIE-16GB\n",
            "Nvidia driver version: 418.67\n",
            "cuDNN version: /usr/lib/x86_64-linux-gnu/libcudnn.so.7.6.5\n",
            "HIP runtime version: N/A\n",
            "MIOpen runtime version: N/A\n",
            "\n",
            "Versions of relevant libraries:\n",
            "[pip3] numpy==1.18.5\n",
            "[pip3] torch==1.7.0+cu101\n",
            "[pip3] torchaudio==0.7.0\n",
            "[pip3] torchsummary==1.5.1\n",
            "[pip3] torchtext==0.3.1\n",
            "[pip3] torchvision==0.8.1+cu101\n",
            "[conda] Could not collect\n"
          ],
          "name": "stdout"
        }
      ]
    },
    {
      "cell_type": "code",
      "metadata": {
        "id": "t07OdCY1ejeL",
        "outputId": "f25a0957-067a-4e41-bcdb-78f5a9674218",
        "colab": {
          "base_uri": "https://localhost:8080/",
          "height": 34
        }
      },
      "source": [
        "torch.cuda.is_available()"
      ],
      "execution_count": null,
      "outputs": [
        {
          "output_type": "execute_result",
          "data": {
            "text/plain": [
              "False"
            ]
          },
          "metadata": {
            "tags": []
          },
          "execution_count": 31
        }
      ]
    },
    {
      "cell_type": "code",
      "metadata": {
        "id": "_4evEU-VHyZa"
      },
      "source": [
        "class ImbalancedDatasetSampler(torch.utils.data.sampler.Sampler):\n",
        "    \"\"\"Samples elements randomly from a given list of indices for imbalanced dataset\n",
        "    Arguments:\n",
        "        indices (list, optional): a list of indices\n",
        "        num_samples (int, optional): number of samples to draw\n",
        "        callback_get_label func: a callback-like function which takes two arguments - dataset and index\n",
        "    \"\"\"\n",
        "\n",
        "    def __init__(self, dataset, indices=None, num_samples=None, callback_get_label=None):\n",
        "                \n",
        "        # if indices is not provided, \n",
        "        # all elements in the dataset will be considered\n",
        "        self.indices = list(range(len(dataset))) \\\n",
        "            if indices is None else indices\n",
        "\n",
        "        # define custom callback\n",
        "        self.callback_get_label = callback_get_label\n",
        "\n",
        "        # if num_samples is not provided, \n",
        "        # draw `len(indices)` samples in each iteration\n",
        "        self.num_samples = len(self.indices) \\\n",
        "            if num_samples is None else num_samples\n",
        "    \n",
        "        # distribution of classes in the dataset \n",
        "        label_to_count = {}\n",
        "        ##print(label_to_count)\n",
        "        ##print(\"len(self.indices): \", len(self.indices))\n",
        "        for idx in self.indices:\n",
        "            label = self._get_label(dataset, idx)\n",
        "            if label in label_to_count:\n",
        "                label_to_count[label] += 1\n",
        "            else:\n",
        "                label_to_count[label] = 1\n",
        "        ##print(len(label_to_count))      \n",
        "        # weight for each sample\n",
        "        weights = [1.0 / label_to_count[self._get_label(dataset, idx)]\n",
        "                   for idx in self.indices]\n",
        "        self.weights = torch.DoubleTensor(weights)\n",
        "\n",
        "    def _get_label(self, dataset, idx):\n",
        "        if self.callback_get_label:\n",
        "            return self.callback_get_label(dataset, idx)\n",
        "        elif isinstance(dataset, ChestXRayDataset):\n",
        "            ##print(dataset.__getitem__(idx)[1])\n",
        "            return dataset.__getitem__(idx)[1]\n",
        "        else:\n",
        "            raise NotImplementedError\n",
        "                \n",
        "    def __iter__(self):\n",
        "        return (self.indices[i] for i in torch.multinomial(\n",
        "            self.weights, self.num_samples, replacement=True))\n",
        "\n",
        "    def __len__(self):\n",
        "        return self.num_samples"
      ],
      "execution_count": null,
      "outputs": []
    },
    {
      "cell_type": "code",
      "metadata": {
        "id": "oVttfZJBcn0E"
      },
      "source": [
        "sampler = ImbalancedDatasetSampler(train_dataset)"
      ],
      "execution_count": null,
      "outputs": []
    },
    {
      "cell_type": "code",
      "metadata": {
        "id": "7fxnZMxxI-ts",
        "outputId": "1974d21c-117f-4689-a1d0-220b630f4729",
        "colab": {
          "base_uri": "https://localhost:8080/",
          "height": 518
        }
      },
      "source": [
        "process(torch.utils.data.DataLoader(\n",
        "    train_dataset, batch_size=args.batch_size, \n",
        "    sampler= sampler,\n",
        "    **kwargs), test_loader)"
      ],
      "execution_count": null,
      "outputs": [
        {
          "output_type": "stream",
          "text": [
            "Best test acc = 96.67%"
          ],
          "name": "stdout"
        },
        {
          "output_type": "display_data",
          "data": {
            "image/png": "[encoded data removed]",
            "text/plain": [
              "<Figure size 1440x576 with 3 Axes>"
            ]
          },
          "metadata": {
            "tags": [],
            "needs_background": "light"
          }
        }
      ]
    },
    {
      "cell_type": "code",
      "metadata": {
        "id": "ipd2EcNc5o1P",
        "outputId": "5b78a0c6-b646-4e78-ef6d-683fcb562d22",
        "colab": {
          "base_uri": "https://localhost:8080/",
          "height": 493
        }
      },
      "source": [
        "!pip install torch==1.7.0+cu101 torchvision==0.8.1+cu101 torchaudio===0.7.0 -f https://download.pytorch.org/whl/torch_stable.html"
      ],
      "execution_count": null,
      "outputs": [
        {
          "output_type": "stream",
          "text": [
            "Looking in links: https://download.pytorch.org/whl/torch_stable.html\n",
            "Collecting torch==1.7.0+cu101\n",
            "\u001b[?25l  Downloading https://download.pytorch.org/whl/cu101/torch-1.7.0%2Bcu101-cp36-cp36m-linux_x86_64.whl (735.3MB)\n",
            "\u001b[K     |████████████████████████████████| 735.3MB 11kB/s \n",
            "\u001b[?25hCollecting torchvision==0.8.1+cu101\n",
            "\u001b[?25l  Downloading https://download.pytorch.org/whl/cu101/torchvision-0.8.1%2Bcu101-cp36-cp36m-linux_x86_64.whl (12.8MB)\n",
            "\u001b[K     |████████████████████████████████| 12.8MB 245kB/s \n",
            "\u001b[?25hCollecting torchaudio===0.7.0\n",
            "\u001b[?25l  Downloading https://files.pythonhosted.org/packages/3f/23/6b54106b3de029d3f10cf8debc302491c17630357449c900d6209665b302/torchaudio-0.7.0-cp36-cp36m-manylinux1_x86_64.whl (7.6MB)\n",
            "\u001b[K     |████████████████████████████████| 7.6MB 2.7MB/s \n",
            "\u001b[?25hRequirement already satisfied: future in /usr/local/lib/python3.6/dist-packages (from torch==1.7.0+cu101) (0.16.0)\n",
            "Requirement already satisfied: numpy in /usr/local/lib/python3.6/dist-packages (from torch==1.7.0+cu101) (1.18.5)\n",
            "Requirement already satisfied: dataclasses in /usr/local/lib/python3.6/dist-packages (from torch==1.7.0+cu101) (0.7)\n",
            "Requirement already satisfied: typing-extensions in /usr/local/lib/python3.6/dist-packages (from torch==1.7.0+cu101) (3.7.4.3)\n",
            "Requirement already satisfied: pillow>=4.1.1 in /usr/local/lib/python3.6/dist-packages (from torchvision==0.8.1+cu101) (7.0.0)\n",
            "Installing collected packages: torch, torchvision, torchaudio\n",
            "  Found existing installation: torch 1.6.0+cu101\n",
            "    Uninstalling torch-1.6.0+cu101:\n",
            "      Successfully uninstalled torch-1.6.0+cu101\n",
            "  Found existing installation: torchvision 0.7.0+cu101\n",
            "    Uninstalling torchvision-0.7.0+cu101:\n",
            "      Successfully uninstalled torchvision-0.7.0+cu101\n",
            "Successfully installed torch-1.7.0+cu101 torchaudio-0.7.0 torchvision-0.8.1+cu101\n"
          ],
          "name": "stdout"
        },
        {
          "output_type": "display_data",
          "data": {
            "application/vnd.colab-display-data+json": {
              "pip_warning": {
                "packages": [
                  "torch",
                  "torchvision"
                ]
              }
            }
          },
          "metadata": {
            "tags": []
          }
        }
      ]
    },
    {
      "cell_type": "code",
      "metadata": {
        "id": "AXIpsaMJI_Tj"
      },
      "source": [
        ""
      ],
      "execution_count": null,
      "outputs": []
    }
  ]
}