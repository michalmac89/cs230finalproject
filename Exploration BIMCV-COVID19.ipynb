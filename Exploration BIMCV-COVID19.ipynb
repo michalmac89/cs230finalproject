{
 "cells": [
  {
   "cell_type": "markdown",
   "metadata": {},
   "source": [
    "# Preview the README file"
   ]
  },
  {
   "cell_type": "code",
   "execution_count": null,
   "metadata": {},
   "outputs": [],
   "source": [
    "!cat ../datasets/bimcv-covid19/README.md"
   ]
  },
  {
   "cell_type": "markdown",
   "metadata": {},
   "source": [
    "# Preview the dataset description"
   ]
  },
  {
   "cell_type": "code",
   "execution_count": null,
   "metadata": {},
   "outputs": [],
   "source": [
    "!cat ../datasets/bimcv-covid19/dataset_description.json"
   ]
  },
  {
   "cell_type": "code",
   "execution_count": null,
   "metadata": {},
   "outputs": [],
   "source": [
    "!nvcc --version"
   ]
  },
  {
   "cell_type": "code",
   "execution_count": null,
   "metadata": {},
   "outputs": [],
   "source": [
    "!nvcc --version"
   ]
  },
  {
   "cell_type": "code",
   "execution_count": null,
   "metadata": {},
   "outputs": [],
   "source": [
    "gpu_info = !nvidia-smi\n",
    "gpu_info = '\\n'.join(gpu_info)\n",
    "if gpu_info.find('failed') >= 0:\n",
    "    print('Select the Runtime > \"Change runtime type\" menu to enable a GPU accelerator, ')\n",
    "    print('and then re-execute this cell.')\n",
    "else:\n",
    "    print(gpu_info)\n",
    "\n",
    "from psutil import virtual_memory\n",
    "ram_gb = virtual_memory().total / 1e9\n",
    "print('Your runtime has {:.1f} gigabytes of available RAM\\n'.format(ram_gb))\n",
    "if ram_gb < 20:\n",
    "    print('To enable a high-RAM runtime, select the Runtime > \"Change runtime type\"')\n",
    "    print('menu, and then select High-RAM in the Runtime shape dropdown. Then, ')\n",
    "    print('re-execute this cell.')\n",
    "else:\n",
    "    print('You are using a high-RAM runtime!')"
   ]
  },
  {
   "cell_type": "markdown",
   "metadata": {},
   "source": [
    "# Preview the participants file"
   ]
  },
  {
   "cell_type": "code",
   "execution_count": null,
   "metadata": {},
   "outputs": [],
   "source": [
    "import pandas as pd\n",
    "participants = pd.read_csv('../datasets/abimcv-covid19/participants.tsv', delimiter='\\t')\n",
    "participants.describe()"
   ]
  },
  {
   "cell_type": "markdown",
   "metadata": {},
   "source": [
    "# Create map for subject to each scan"
   ]
  },
  {
   "cell_type": "code",
   "execution_count": null,
   "metadata": {},
   "outputs": [],
   "source": [
    "import os\n",
    "from IPython.display import display, HTML\n",
    "\n",
    "debug = False\n",
    "\n",
    "root = '../datasets/bimcv-covid19/'\n",
    "subject_dirs = [name for name in os.listdir(root) if '.' not in name and 'sub' == name[0:3]]\n",
    "print('There are %d directories with patient data' % len(subject_dirs))\n",
    "subject_to_sessions = {}\n",
    "for subject_dir in subject_dirs:\n",
    "    print(subject_dir)\n",
    "    # find tsv file\n",
    "    sessions_df = pd.read_csv('%s%s/%s_sessions.tsv' % (root, subject_dir, subject_dir), delimiter='\\t')\n",
    "    sessions_to_scans = {'sessions_df': sessions_df}\n",
    "    # find png files per session\n",
    "    if debug:\n",
    "        display(HTML(sessions_df.to_html()))\n",
    "    for session_id in sessions_df['session_id']:\n",
    "        scans_df = pd.read_csv('%s%s/%s/%s_%s_scans.tsv' % (root, subject_dir, session_id, subject_dir, session_id), delimiter='\\t')\n",
    "        if debug:\n",
    "            display(HTML(scans_df.to_html()))\n",
    "        sessions_to_scans[session_id] = scans_df\n",
    "        \n",
    "    subject_to_sessions[subject_dir] = sessions_to_scans"
   ]
  },
  {
   "cell_type": "markdown",
   "metadata": {},
   "source": [
    "# Preview each image and decide if it is lateral or frontal view"
   ]
  },
  {
   "cell_type": "code",
   "execution_count": null,
   "metadata": {},
   "outputs": [],
   "source": [
    "def convert_filename(filename):\n",
    "    \n",
    "    # We only consider X-rays - CT scans are in an archive\n",
    "    if '.gz' in filename:\n",
    "        return []\n",
    "    \n",
    "    # there could be a comma in a filename\n",
    "    if ',' in filename:\n",
    "        converted_filename = []\n",
    "        for filename_comma_split in filename.split(','):\n",
    "            split = filename_comma_split.split('_')\n",
    "            split[2], split[4] = split[4], split[2]\n",
    "\n",
    "            converted_filename.append('_'.join(split))\n",
    "        return converted_filename\n",
    "    else:\n",
    "        if '_cr' in filename:\n",
    "            filename = filename.replace('_bp-chest', '').replace('_cr', '_bp-chest_cr')\n",
    "        elif 'acq-1' in filename:\n",
    "            print(filename)\n",
    "            filename = filename.replace('_bp-chest', '').replace('_vp', '_bp-chest_vp').replace('_acq-1', '').replace('pa_dx', 'ap_dx')\n",
    "        else:\n",
    "            filename_split = filename.split('_')\n",
    "            filename_split[2], filename_split[3] = filename_split[3], filename_split[2]\n",
    "            filename = '_'.join(filename_split)\n",
    "            \n",
    "        filename = filename.replace('vp-ap_bp-chest_cr', 'bp-chest_vp-ap_cr')\n",
    "        return [filename]"
   ]
  },
  {
   "cell_type": "markdown",
   "metadata": {},
   "source": [
    "# Preview and Manual Labelling of Frontal/Lateral Views"
   ]
  },
  {
   "cell_type": "code",
   "execution_count": null,
   "metadata": {},
   "outputs": [],
   "source": [
    "from matplotlib import pyplot as plt\n",
    "from PIL import Image\n",
    "import numpy as np\n",
    "from IPython.display import clear_output\n",
    "\n",
    "counter = 0\n",
    "images_to_session_day_name_path = []\n",
    "for subject_id, sessions in subject_to_sessions.items():\n",
    "    print(counter, subject_id)\n",
    "    counter += 1\n",
    "    for session, scans in sessions.items():\n",
    "        if session != 'sessions_df':\n",
    "            print('\\t\\t', session)\n",
    "            for filename in scans['filename']:\n",
    "                for filename_corrected in convert_filename(filename):\n",
    "                    print('\\t\\t\\t', filename_corrected)\n",
    "                    full_path = '%s%s/%s/%s' % (root, subject_id, session, filename_corrected)\n",
    "                    try:\n",
    "                        im_frame = Image.open(full_path)\n",
    "                    except:\n",
    "                        try:\n",
    "                            im_frame = Image.open(full_path.replace('ap_dx', 'pa_dx'))\n",
    "                        except:\n",
    "                            full_path_split = full_path.split('_')\n",
    "                            full_path_split[3], full_path_split[4] = full_path_split[4], full_path_split[3]\n",
    "                            full_path = '_'.join(full_path_split)\n",
    "                            im_frame = Image.open(full_path)\n",
    "                                    \n",
    "                    np_frame = np.array(im_frame)\n",
    "                    plt.imshow(np_frame)\n",
    "                    plt.show()\n",
    "                    is_frontal = input('Is frontal (y/n)') or 'y'\n",
    "                    clear_output(wait=True)\n",
    "                    date = sessions['sessions_df'][sessions['sessions_df']['session_id'] == session]['study_date'].values[0]\n",
    "                    age = scans.filter(regex='Patient\\'s Age ').values[0][0]\n",
    "                    sex = scans.filter(regex='Patient\\'s Sex ').values[0][0]\n",
    "                    images_to_session_day_name_path.append([subject_id, session, date, age, sex, filename, full_path, is_frontal])"
   ]
  },
  {
   "cell_type": "code",
   "execution_count": null,
   "metadata": {},
   "outputs": [],
   "source": [
    " pd.DataFrame(images_to_session_day_name_path, columns=['Subject', 'Session', 'Date', 'Age', 'Sex', 'Filename', 'Path', 'Is frontal']).to_csv('bimcv-covid19.csv')"
   ]
  },
  {
   "cell_type": "code",
   "execution_count": null,
   "metadata": {},
   "outputs": [],
   "source": [
    "import pandas as pd\n",
    "pd.read_csv('bimcv-covid19.csv', index_col=0)"
   ]
  },
  {
   "cell_type": "code",
   "execution_count": null,
   "metadata": {},
   "outputs": [],
   "source": []
  }
 ],
 "metadata": {
  "kernelspec": {
   "display_name": "Python 3",
   "language": "python",
   "name": "python3"
  },
  "language_info": {
   "codemirror_mode": {
    "name": "ipython",
    "version": 3
   },
   "file_extension": ".py",
   "mimetype": "text/x-python",
   "name": "python",
   "nbconvert_exporter": "python",
   "pygments_lexer": "ipython3",
   "version": "3.7.6"
  }
 },
 "nbformat": 4,
 "nbformat_minor": 4
}
